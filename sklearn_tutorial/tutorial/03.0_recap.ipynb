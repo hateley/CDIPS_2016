{
 "cells": [
  {
   "cell_type": "markdown",
   "metadata": {},
   "source": [
    "Today we've covered just a small subset of the complicated and ever-growing world of machine learning. These tutorials are a good start, but you'll want to get your hands dirty on some \"real-world\" datasets. You probably also want to check out some other learning materials. Fortunately, there are a lot of them out there.\n",
    "\n",
    "# Datasets\n",
    "While many packages have their own built-in support for dataset downloads, you might want to search for more complicated or unique datasets. Good places to start are [MLData](http://mldata.org/) or [Kaggle](http://kaggle.com). Alternatively, you can always ask around the twitterverse as people tend to be pretty helpful.\n",
    "\n",
    "# Tutorials\n",
    "There are also a ton of other tutorials out there. A good place to start is [this github repo](https://github.com/ujjwalkarn/DataSciencePython), which keeps a curated list of tutorials for machine learning and python."
   ]
  },
  {
   "cell_type": "code",
   "execution_count": null,
   "metadata": {
    "collapsed": true
   },
   "outputs": [],
   "source": []
  }
 ],
 "metadata": {
  "hide_input": false,
  "kernelspec": {
   "display_name": "Python 2",
   "language": "python",
   "name": "python2"
  },
  "language_info": {
   "codemirror_mode": {
    "name": "ipython",
    "version": 2
   },
   "file_extension": ".py",
   "mimetype": "text/x-python",
   "name": "python",
   "nbconvert_exporter": "python",
   "pygments_lexer": "ipython2",
   "version": "2.7.11"
  }
 },
 "nbformat": 4,
 "nbformat_minor": 0
}
